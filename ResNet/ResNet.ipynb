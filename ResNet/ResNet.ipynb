{
  "nbformat": 4,
  "nbformat_minor": 0,
  "metadata": {
    "colab": {
      "name": "ResNet.ipynb",
      "provenance": [],
      "collapsed_sections": [],
      "toc_visible": true
    },
    "kernelspec": {
      "name": "python3",
      "display_name": "Python 3"
    }
  },
  "cells": [
    {
      "cell_type": "markdown",
      "metadata": {
        "id": "ZGfGDQfkrWgR",
        "colab_type": "text"
      },
      "source": [
        "## 一、数据预处理"
      ]
    },
    {
      "cell_type": "code",
      "metadata": {
        "id": "vr47ITLsrJzt",
        "colab_type": "code",
        "colab": {}
      },
      "source": [
        "# 导入依赖包\n",
        "import tensorflow as tf\n",
        "from tensorflow import keras\n",
        "from tensorflow.keras import layers, Sequential, datasets, losses, optimizers"
      ],
      "execution_count": 0,
      "outputs": []
    },
    {
      "cell_type": "code",
      "metadata": {
        "id": "431u0Dgs7zh3",
        "colab_type": "code",
        "colab": {
          "base_uri": "https://localhost:8080/",
          "height": 34
        },
        "outputId": "6f1ea1cf-5c98-481f-e9aa-cdd0164a26bd"
      },
      "source": [
        "# 加载数据集\n",
        "(x, y), (x_test, y_test) = datasets.cifar10.load_data()\n",
        "print(x.shape, y.shape, x_test.shape, y_test.shape)"
      ],
      "execution_count": 2,
      "outputs": [
        {
          "output_type": "stream",
          "text": [
            "(50000, 32, 32, 3) (50000, 1) (10000, 32, 32, 3) (10000, 1)\n"
          ],
          "name": "stdout"
        }
      ]
    },
    {
      "cell_type": "code",
      "metadata": {
        "id": "Y7sNo_JH8GjD",
        "colab_type": "code",
        "colab": {
          "base_uri": "https://localhost:8080/",
          "height": 51
        },
        "outputId": "e4402dd1-e567-4532-c782-1083e3b17f44"
      },
      "source": [
        "# 数据预处理并转化为Datasets\n",
        "\n",
        "def preprocess(x, y):\n",
        "    \"\"\"\n",
        "    预处理函数\n",
        "    \"\"\"\n",
        "    x = tf.cast(x, dtype=tf.float32) / 255\n",
        "    y = tf.cast(y, tf.int32)\n",
        "    # [b, 1] => [b]\n",
        "    y = tf.squeeze(y)\n",
        "    # [b, 10]\n",
        "    y = tf.one_hot(y, depth=10)\n",
        "    return x,y\n",
        "\n",
        "epoch_num = 50\n",
        "batch_size = 128\n",
        "learning_rate = 1e-3\n",
        "\n",
        "# 转化为Dataset数据集\n",
        "train_db = tf.data.Dataset.from_tensor_slices((x, y))\n",
        "# map --> shuffle ---> batch: 先map，后batch，否则会出现ValueError: Cannot take the length of shape with unknown rank.\n",
        "train_db = train_db.map(preprocess).shuffle(50000).batch(batch_size)\n",
        "\n",
        "test_db = tf.data.Dataset.from_tensor_slices((x_test, y_test))\n",
        "test_db = test_db.map(preprocess).batch(batch_size)\n",
        "\n",
        "\n",
        "sample_train = next(iter(train_db))\n",
        "print('batch_train:', sample_train[0].shape, sample_train[1].shape)\n",
        "sample_test = next(iter(test_db))\n",
        "print('batch_test:', sample_test[0].shape, sample_test[1].shape)"
      ],
      "execution_count": 3,
      "outputs": [
        {
          "output_type": "stream",
          "text": [
            "batch_train: (128, 32, 32, 3) (128, 10)\n",
            "batch_test: (128, 32, 32, 3) (128, 10)\n"
          ],
          "name": "stdout"
        }
      ]
    },
    {
      "cell_type": "markdown",
      "metadata": {
        "id": "OyJe97zGsYj3",
        "colab_type": "text"
      },
      "source": [
        "## 二、实现Basic Block\n",
        "![Basic Block](https://freeshow.oss-cn-beijing.aliyuncs.com/blog/20200420101359.png)"
      ]
    },
    {
      "cell_type": "code",
      "metadata": {
        "id": "fag8bXlgs-2T",
        "colab_type": "code",
        "colab": {}
      },
      "source": [
        "class BasicBlock(layers.Layer):\n",
        "\n",
        "  def __init__(self, filter_num, stride=1):\n",
        "    super(BasicBlock, self).__init__()\n",
        "\n",
        "    # F(x)\n",
        "    self.conv1 = layers.Conv2D(filter_num, (3, 3), strides=stride, padding='same')\n",
        "    self.bn1 = layers.BatchNormalization()\n",
        "    self.relu = layers.Activation('relu')\n",
        "\n",
        "    self.conv2 = layers.Conv2D(filter_num, (3, 3), strides=1, padding='same')\n",
        "    self.bn2 = layers.BatchNormalization()\n",
        "\n",
        "    # identity, 如果stride不等于1，说明F(x)降维了，则shutcut也需要降维来保持和F(x)具有相同的维度。 \n",
        "    if stride != 1:\n",
        "        self.downsample = Sequential()\n",
        "        self.downsample.add(layers.Conv2D(filter_num, (1, 1), strides=stride))\n",
        "    else:\n",
        "        self.downsample = lambda x:x\n",
        "\n",
        "  def call(self, inputs, training=None):\n",
        "    # [b, h, w, c]\n",
        "    out = self.conv1(inputs)\n",
        "    out = self.bn1(out,training=training)\n",
        "    out = self.relu(out)\n",
        "\n",
        "    out = self.conv2(out)\n",
        "    out = self.bn2(out,training=training)\n",
        "\n",
        "    identity = self.downsample(inputs)\n",
        "\n",
        "    output = layers.add([out, identity])\n",
        "    output = tf.nn.relu(output)\n",
        "\n",
        "    return output"
      ],
      "execution_count": 0,
      "outputs": []
    },
    {
      "cell_type": "markdown",
      "metadata": {
        "id": "h60tC9V_2P9n",
        "colab_type": "text"
      },
      "source": [
        "## 三、实现 Res Block\n",
        "![ResNet18, image found on Google images.\n",
        "](https://freeshow.oss-cn-beijing.aliyuncs.com/blog/20200420171051.png)\n",
        "\n",
        "如上图 ResNet18 包含一个数据处理层，4个Res Block层(每种颜色代表一个Res Block,每个Res Block包含两个Basic Block)和一个输出层，每个弧线代表一个Basic Block，每个Res Block的第一个Basic Block用虚弧线表示feathure map减半，每个Basic Block包含两个Conv, 所以 1+4*4+1=18层"
      ]
    },
    {
      "cell_type": "code",
      "metadata": {
        "id": "Su5q1DbR4n8I",
        "colab_type": "code",
        "colab": {}
      },
      "source": [
        "class ResNet(keras.Model):\n",
        "  def __init__(self, layer_dims, num_classes=10): # [2, 2, 2, 2]\n",
        "    super(ResNet, self).__init__()\n",
        "\n",
        "    # 第一层，数据处理层\n",
        "    self.stem = Sequential([layers.Conv2D(64, (3, 3), strides=(1, 1)),\n",
        "                            layers.BatchNormalization(),\n",
        "                            layers.Activation('relu'),\n",
        "                            layers.MaxPool2D(pool_size=(2, 2), strides=(1, 1), padding='same')\n",
        "                            ])\n",
        "    # 第1个Res Block\n",
        "    self.layer1 = self.build_resblock(64,  layer_dims[0])\n",
        "    # 第2个Res Block\n",
        "    self.layer2 = self.build_resblock(128, layer_dims[1], stride=2)\n",
        "    # 第3个Res Block\n",
        "    self.layer3 = self.build_resblock(256, layer_dims[2], stride=2)\n",
        "    # 第4个Res Block, [b, 512, h, w]\n",
        "    self.layer4 = self.build_resblock(512, layer_dims[3], stride=2)\n",
        "\n",
        "    # 最后一层，输出层，使用GlobalAveragePooling2D代替全连接层(batch_size, channels)，即[b, 512]\n",
        "    self.avgpool = layers.GlobalAveragePooling2D()\n",
        "    self.fc = layers.Dense(num_classes)\n",
        "\n",
        "  def call(self, inputs, training=None):\n",
        "    x = self.stem(inputs,training=training)\n",
        "\n",
        "    x = self.layer1(x,training=training)\n",
        "    x = self.layer2(x,training=training)\n",
        "    x = self.layer3(x,training=training)\n",
        "    x = self.layer4(x,training=training)\n",
        "\n",
        "    # [b, c]\n",
        "    x = self.avgpool(x)\n",
        "    # [b, 10]\n",
        "    x = self.fc(x)\n",
        "\n",
        "    return x\n",
        "\n",
        "  def build_resblock(self, filter_num, blocks, stride=1):\n",
        "    \"\"\"\n",
        "    建立Res Block\n",
        "    \"\"\"\n",
        "    res_blocks = Sequential()\n",
        "    # may down sample, 第一层Basic Block一般需要降维\n",
        "    res_blocks.add(BasicBlock(filter_num, stride))\n",
        "\n",
        "    # 后面的Res Block一般不需要降维\n",
        "    for _ in range(1, blocks):\n",
        "        res_blocks.add(BasicBlock(filter_num, stride=1))\n",
        "\n",
        "    return res_blocks"
      ],
      "execution_count": 0,
      "outputs": []
    },
    {
      "cell_type": "markdown",
      "metadata": {
        "id": "vvSujRsz6rVZ",
        "colab_type": "text"
      },
      "source": [
        "## 四、定义ResNet"
      ]
    },
    {
      "cell_type": "code",
      "metadata": {
        "id": "HA60RY6I4joq",
        "colab_type": "code",
        "colab": {}
      },
      "source": [
        "def resnet18():\n",
        "  \"\"\"\n",
        "  ResNet18\n",
        "  \"\"\"\n",
        "  return ResNet([2, 2, 2, 2])\n",
        "\n",
        "def resnet34():\n",
        "  \"\"\"\n",
        "  ResNet34\n",
        "  \"\"\"\n",
        "  return ResNet([3, 4, 6, 3])"
      ],
      "execution_count": 0,
      "outputs": []
    },
    {
      "cell_type": "markdown",
      "metadata": {
        "id": "GVL1kcj48g-q",
        "colab_type": "text"
      },
      "source": [
        "## 五、创建网络"
      ]
    },
    {
      "cell_type": "code",
      "metadata": {
        "id": "X0bEHbca8rY4",
        "colab_type": "code",
        "colab": {
          "base_uri": "https://localhost:8080/",
          "height": 391
        },
        "outputId": "82ad403d-ff1c-4049-d57b-52ab4fb51ada"
      },
      "source": [
        "model = resnet18()\n",
        "model.build(input_shape=(None, 32, 32, 3))\n",
        "model.summary()"
      ],
      "execution_count": 7,
      "outputs": [
        {
          "output_type": "stream",
          "text": [
            "Model: \"res_net\"\n",
            "_________________________________________________________________\n",
            "Layer (type)                 Output Shape              Param #   \n",
            "=================================================================\n",
            "sequential (Sequential)      multiple                  2048      \n",
            "_________________________________________________________________\n",
            "sequential_1 (Sequential)    multiple                  148736    \n",
            "_________________________________________________________________\n",
            "sequential_2 (Sequential)    multiple                  526976    \n",
            "_________________________________________________________________\n",
            "sequential_4 (Sequential)    multiple                  2102528   \n",
            "_________________________________________________________________\n",
            "sequential_6 (Sequential)    multiple                  8399360   \n",
            "_________________________________________________________________\n",
            "global_average_pooling2d (Gl multiple                  0         \n",
            "_________________________________________________________________\n",
            "dense (Dense)                multiple                  5130      \n",
            "=================================================================\n",
            "Total params: 11,184,778\n",
            "Trainable params: 11,176,970\n",
            "Non-trainable params: 7,808\n",
            "_________________________________________________________________\n"
          ],
          "name": "stdout"
        }
      ]
    },
    {
      "cell_type": "markdown",
      "metadata": {
        "id": "skbHo_K_9UYK",
        "colab_type": "text"
      },
      "source": [
        "## 六、模型训练"
      ]
    },
    {
      "cell_type": "code",
      "metadata": {
        "id": "5VmmquD19Ys4",
        "colab_type": "code",
        "colab": {}
      },
      "source": [
        "model.compile(loss=losses.CategoricalCrossentropy(from_logits=True), optimizer=optimizers.Adam(learning_rate=learning_rate), metrics=[\"accuracy\"])\n",
        "model.fit(train_db, epochs=epoch_num, validation_data=test_db, validation_freq=10)"
      ],
      "execution_count": 0,
      "outputs": []
    }
  ]
}